{
 "cells": [
  {
   "cell_type": "markdown",
   "metadata": {},
   "source": [
    "# WeatherPy\n",
    "----\n",
    "\n",
    "#### Note\n",
    "* Instructions have been included for each segment. You do not have to follow them exactly, but they are included to help you think through the steps."
   ]
  },
  {
   "cell_type": "code",
   "execution_count": 1,
   "metadata": {
    "scrolled": true
   },
   "outputs": [
    {
     "name": "stdout",
     "output_type": "stream",
     "text": [
      "2b36184641483dc7edf847dd4aa11f2f\n"
     ]
    }
   ],
   "source": [
    "# Dependencies and Setup\n",
    "\n",
    "import matplotlib.pyplot as plt\n",
    "import pandas as pd\n",
    "import numpy as np\n",
    "import requests\n",
    "import time\n",
    "from scipy.stats import linregress\n",
    "\n",
    "# Import API key\n",
    "from api_keys import weather_api_key\n",
    "print(weather_api_key)\n",
    "# Incorporated citipy to determine city based on latitude and longitude\n",
    "from citipy import citipy\n",
    "\n",
    "# Output File (CSV)\n",
    "output_data_file = \"output_data/cities.csv\"\n",
    "\n",
    "# Range of latitudes and longitudes\n",
    "lat_range = (-90, 90)\n",
    "lng_range = (-180, 180)"
   ]
  },
  {
   "cell_type": "markdown",
   "metadata": {},
   "source": [
    "## Generate Cities List"
   ]
  },
  {
   "cell_type": "code",
   "execution_count": 2,
   "metadata": {},
   "outputs": [
    {
     "data": {
      "text/plain": [
       "583"
      ]
     },
     "execution_count": 2,
     "metadata": {},
     "output_type": "execute_result"
    }
   ],
   "source": [
    "# List for holding lat_lngs and cities\n",
    "lat_lngs = []\n",
    "cities = []\n",
    "\n",
    "# Create a set of random lat and lng combinations\n",
    "lats = np.random.uniform(low=-90.000, high=90.000, size=1500)\n",
    "lngs = np.random.uniform(low=-180.000, high=180.000, size=1500)\n",
    "lat_lngs = zip(lats, lngs)\n",
    "\n",
    "# Identify nearest city for each lat, lng combination\n",
    "for lat_lng in lat_lngs:\n",
    "    city = citipy.nearest_city(lat_lng[0], lat_lng[1]).city_name\n",
    "    \n",
    "    # If the city is unique, then add it to a our cities list\n",
    "    if city not in cities:\n",
    "        cities.append(city)\n",
    "\n",
    "# Print the city count to confirm sufficient count\n",
    "len(cities)"
   ]
  },
  {
   "cell_type": "markdown",
   "metadata": {},
   "source": [
    "### Perform API Calls\n",
    "* Perform a weather check on each city using a series of successive API calls.\n",
    "* Include a print log of each city as it'sbeing processed (with the city number and city name).\n"
   ]
  },
  {
   "cell_type": "code",
   "execution_count": 12,
   "metadata": {},
   "outputs": [
    {
     "name": "stdout",
     "output_type": "stream",
     "text": [
      "2b36184641483dc7edf847dd4aa11f2f\n",
      "Processing record  1 of Set 1 |tazovskiy\n",
      "Processing record  2 of Set 1 |puerto ayora\n",
      "Processing record  3 of Set 1 |brae\n",
      "Processing record  4 of Set 1 |hirara\n",
      "Processing record  5 of Set 1 |tsihombe\n",
      "Processing record  6 of Set 1 |rikitea\n",
      "Processing record  7 of Set 1 |kodiak\n",
      "Processing record  8 of Set 1 |hithadhoo\n",
      "Processing record  9 of Set 1 |punta arenas\n",
      "Processing record  10 of Set 1 |pochutla\n",
      "Processing record  11 of Set 1 |kang\n",
      "Processing record  12 of Set 1 |te anau\n",
      "Processing record  13 of Set 1 |busselton\n",
      "Processing record  14 of Set 1 |cherskiy\n",
      "Processing record  15 of Set 1 |hualmay\n",
      "Processing record  16 of Set 1 |vaini\n",
      "Processing record  17 of Set 1 |port-cartier\n",
      "Processing record  18 of Set 1 |chuy\n",
      "Processing record  19 of Set 1 |yellowknife\n",
      "Processing record  20 of Set 1 |ushuaia\n",
      "Processing record  21 of Set 1 |saskylakh\n",
      "Processing record  22 of Set 1 |kaitangata\n",
      "Processing record  23 of Set 1 |hermanus\n",
      "Processing record  24 of Set 1 |torbay\n",
      "Processing record  25 of Set 1 |east london\n",
      "Processing record  26 of Set 1 |saint-philippe\n",
      "Processing record  27 of Set 1 |praia da vitoria\n",
      "Processing record  28 of Set 1 |bredasdorp\n",
      "Processing record  29 of Set 1 |ancud\n",
      "Processing record  30 of Set 1 |grindavik\n",
      "Processing record  31 of Set 1 |dikson\n",
      "Processing record  32 of Set 1 |santa isabel do rio negro\n",
      "Processing record  33 of Set 1 |port alfred\n",
      "Processing record  34 of Set 1 |taolanaro\n",
      "Processing record  35 of Set 1 |new norfolk\n",
      "Processing record  36 of Set 1 |ayan\n",
      "Processing record  37 of Set 1 |monte patria\n",
      "Processing record  38 of Set 1 |samur\n",
      "Processing record  39 of Set 1 |ust-kishert\n",
      "Processing record  40 of Set 1 |conakry\n",
      "Processing record  41 of Set 1 |fairbanks\n",
      "Processing record  42 of Set 1 |alice springs\n",
      "Processing record  43 of Set 1 |maniitsoq\n",
      "Processing record  44 of Set 1 |tasiilaq\n",
      "Processing record  45 of Set 1 |zhanatas\n",
      "Processing record  46 of Set 1 |qaanaaq\n",
      "Processing record  47 of Set 1 |viedma\n",
      "Processing record  48 of Set 1 |beloha\n",
      "Processing record  49 of Set 1 |talnakh\n",
      "Processing record  50 of Set 1 |dunedin\n",
      "Processing record  51 of Set 1 |jamestown\n",
      "Processing record  52 of Set 1 |fortuna\n",
      "Processing record  53 of Set 1 |mount isa\n",
      "Processing record  54 of Set 1 |dolores\n",
      "Processing record  55 of Set 1 |marcona\n",
      "Processing record  56 of Set 1 |sur\n",
      "Processing record  57 of Set 1 |kapaa\n",
      "Processing record  58 of Set 1 |hilo\n",
      "Processing record  59 of Set 1 |broken hill\n",
      "Processing record  60 of Set 1 |barentsburg\n",
      "Processing record  61 of Set 1 |mys shmidta\n",
      "Processing record  62 of Set 1 |izhma\n",
      "Processing record  63 of Set 1 |yumen\n",
      "Processing record  64 of Set 1 |pisco\n",
      "Processing record  65 of Set 1 |marzuq\n",
      "Processing record  66 of Set 1 |the valley\n",
      "Processing record  67 of Set 1 |srednekolymsk\n",
      "Processing record  68 of Set 1 |mutsamudu\n",
      "Processing record  69 of Set 1 |saint-pierre\n",
      "Processing record  70 of Set 1 |tuktoyaktuk\n",
      "Processing record  71 of Set 1 |albany\n",
      "Processing record  72 of Set 1 |majene\n",
      "Processing record  73 of Set 1 |labutta\n",
      "Processing record  74 of Set 1 |castro\n",
      "Processing record  75 of Set 1 |katobu\n",
      "Processing record  76 of Set 1 |mendi\n",
      "Processing record  77 of Set 1 |longyearbyen\n",
      "Processing record  78 of Set 1 |isangel\n",
      "Processing record  79 of Set 1 |abatskoye\n",
      "Processing record  80 of Set 1 |araouane\n",
      "Processing record  81 of Set 1 |seymchan\n",
      "Processing record  82 of Set 1 |georgetown\n",
      "Processing record  83 of Set 1 |geraldton\n",
      "Processing record  84 of Set 1 |nacala\n",
      "Processing record  85 of Set 1 |barrow\n",
      "Processing record  86 of Set 1 |luderitz\n",
      "Processing record  87 of Set 1 |avarua\n",
      "Processing record  88 of Set 1 |belushya guba\n",
      "Processing record  89 of Set 1 |urdzhar\n",
      "Processing record  90 of Set 1 |san carlos de bariloche\n",
      "Processing record  91 of Set 1 |flinders\n",
      "Processing record  92 of Set 1 |vanavara\n",
      "Processing record  93 of Set 1 |ribeira grande\n",
      "Processing record  94 of Set 1 |samusu\n",
      "Processing record  95 of Set 1 |kushima\n",
      "Processing record  96 of Set 1 |bluff\n",
      "Processing record  97 of Set 1 |esso\n",
      "Processing record  98 of Set 1 |nemuro\n",
      "Processing record  99 of Set 1 |dedovichi\n",
      "Processing record  100 of Set 1 |mataura\n",
      "Processing record  101 of Set 1 |cabo san lucas\n",
      "Processing record  102 of Set 1 |mahebourg\n",
      "Processing record  103 of Set 1 |dauphin\n",
      "Processing record  104 of Set 1 |fushun\n",
      "Processing record  105 of Set 1 |moindou\n",
      "Processing record  106 of Set 1 |nalut\n",
      "Processing record  107 of Set 1 |lasa\n",
      "Processing record  108 of Set 1 |parfenyevo\n",
      "Processing record  109 of Set 1 |nyrob\n",
      "Processing record  110 of Set 1 |khani\n",
      "Processing record  111 of Set 1 |arraial do cabo\n",
      "Processing record  112 of Set 1 |chokurdakh\n",
      "Processing record  113 of Set 1 |sawtell\n",
      "Processing record  114 of Set 1 |ilulissat\n",
      "Processing record  115 of Set 1 |iqaluit\n",
      "Processing record  116 of Set 1 |wulanhaote\n",
      "Processing record  117 of Set 1 |constitucion\n",
      "Processing record  118 of Set 1 |port macquarie\n",
      "Processing record  119 of Set 1 |baghdad\n",
      "Processing record  120 of Set 1 |tumannyy\n",
      "Processing record  121 of Set 1 |zyryanka\n",
      "Processing record  122 of Set 1 |hami\n",
      "Processing record  123 of Set 1 |abrau-dyurso\n",
      "Processing record  124 of Set 1 |atar\n",
      "Processing record  125 of Set 1 |nizhneyansk\n",
      "Processing record  126 of Set 1 |saint george\n",
      "Processing record  127 of Set 1 |rungata\n",
      "Processing record  128 of Set 1 |hobart\n",
      "Processing record  129 of Set 1 |smirnykh\n",
      "Processing record  130 of Set 1 |hokitika\n",
      "Processing record  131 of Set 1 |solginskiy\n",
      "Processing record  132 of Set 1 |anadyr\n",
      "Processing record  133 of Set 1 |provideniya\n",
      "Processing record  134 of Set 1 |butaritari\n",
      "Processing record  135 of Set 1 |sinop\n",
      "Processing record  136 of Set 1 |urdoma\n",
      "Processing record  137 of Set 1 |thunder bay\n",
      "Processing record  138 of Set 1 |pangody\n",
      "Processing record  139 of Set 1 |airai\n",
      "Processing record  140 of Set 1 |ostrovnoy\n",
      "Processing record  141 of Set 1 |kavieng\n",
      "Processing record  142 of Set 1 |boyuibe\n",
      "Processing record  143 of Set 1 |nkhata bay\n",
      "Processing record  144 of Set 1 |kailua\n",
      "Processing record  145 of Set 1 |clyde river\n",
      "Processing record  146 of Set 1 |las choapas\n",
      "Processing record  147 of Set 1 |meulaboh\n",
      "Processing record  148 of Set 1 |grajau\n",
      "Processing record  149 of Set 1 |mangrol\n",
      "Processing record  150 of Set 1 |sola\n",
      "Processing record  151 of Set 1 |mogadishu\n",
      "Processing record  152 of Set 1 |norman wells\n",
      "Processing record  153 of Set 1 |lake city\n",
      "Processing record  154 of Set 1 |cape town\n",
      "Processing record  155 of Set 1 |jinchang\n",
      "Processing record  156 of Set 1 |hasaki\n",
      "Processing record  157 of Set 1 |gao\n",
      "Processing record  158 of Set 1 |kamenskoye\n",
      "Processing record  159 of Set 1 |victoria\n",
      "Processing record  160 of Set 1 |fort nelson\n",
      "Processing record  161 of Set 1 |pangani\n",
      "Processing record  162 of Set 1 |hit\n",
      "Processing record  163 of Set 1 |cayenne\n",
      "Processing record  164 of Set 1 |nouadhibou\n",
      "Processing record  165 of Set 1 |nguiu\n",
      "Processing record  166 of Set 1 |salinopolis\n",
      "Processing record  167 of Set 1 |matara\n",
      "Processing record  168 of Set 1 |waterloo\n",
      "Processing record  169 of Set 1 |kjollefjord\n",
      "Processing record  170 of Set 1 |mar del plata\n",
      "Processing record  171 of Set 1 |perpignan\n",
      "Processing record  172 of Set 1 |destin\n",
      "Processing record  173 of Set 1 |jurado\n",
      "Processing record  174 of Set 1 |whitehorse\n",
      "Processing record  175 of Set 1 |coihaique\n",
      "Processing record  176 of Set 1 |illoqqortoormiut\n",
      "Processing record  177 of Set 1 |kazerun\n",
      "Processing record  178 of Set 1 |ransang\n",
      "Processing record  179 of Set 1 |thompson\n",
      "Processing record  180 of Set 1 |port moresby\n",
      "Processing record  181 of Set 1 |khatanga\n",
      "Processing record  182 of Set 1 |san patricio\n",
      "Processing record  183 of Set 1 |lumajang\n",
      "Processing record  184 of Set 1 |vila velha\n",
      "Processing record  185 of Set 1 |meadow lake\n",
      "Processing record  186 of Set 1 |bethel\n",
      "Processing record  187 of Set 1 |salzhemmendorf\n",
      "Processing record  188 of Set 1 |masjed-e soleyman\n",
      "Processing record  189 of Set 1 |nikolskoye\n",
      "Processing record  190 of Set 1 |tarudant\n",
      "Processing record  191 of Set 1 |bengkulu\n",
      "Processing record  192 of Set 1 |kalevala\n",
      "Processing record  193 of Set 1 |kegayli\n",
      "Processing record  194 of Set 1 |aklavik\n",
      "Processing record  195 of Set 1 |stornoway\n"
     ]
    },
    {
     "name": "stdout",
     "output_type": "stream",
     "text": [
      "Processing record  196 of Set 1 |planadas\n",
      "Processing record  197 of Set 1 |atambua\n",
      "Processing record  198 of Set 1 |rostovka\n",
      "Processing record  199 of Set 1 |puri\n",
      "Processing record  200 of Set 1 |warwick\n",
      "Processing record  201 of Set 1 |oriximina\n",
      "Processing record  202 of Set 1 |puerto madryn\n",
      "Processing record  203 of Set 1 |saint anthony\n",
      "Processing record  204 of Set 1 |pacific grove\n",
      "Processing record  205 of Set 1 |langsa\n",
      "Processing record  206 of Set 1 |san andres\n",
      "Processing record  207 of Set 1 |vostok\n",
      "Processing record  208 of Set 1 |ksenyevka\n",
      "Processing record  209 of Set 1 |samarai\n",
      "Processing record  210 of Set 1 |arlit\n",
      "Processing record  211 of Set 1 |colceag\n",
      "Processing record  212 of Set 1 |khandyga\n",
      "Processing record  213 of Set 1 |uwayl\n",
      "Processing record  214 of Set 1 |vaitupu\n",
      "Processing record  215 of Set 1 |lorengau\n",
      "Processing record  216 of Set 1 |osmaniye\n",
      "Processing record  217 of Set 1 |emerald\n",
      "Processing record  218 of Set 1 |kuche\n",
      "Processing record  219 of Set 1 |saryshagan\n",
      "Processing record  220 of Set 1 |broome\n",
      "Processing record  221 of Set 1 |faya\n",
      "Processing record  222 of Set 1 |isiro\n",
      "Processing record  223 of Set 1 |seondha\n",
      "Processing record  224 of Set 1 |vestmanna\n",
      "Processing record  225 of Set 1 |saldanha\n",
      "Processing record  226 of Set 1 |okhotsk\n",
      "Processing record  227 of Set 1 |salisbury\n",
      "Processing record  228 of Set 1 |nome\n",
      "Processing record  229 of Set 1 |louisbourg\n",
      "Processing record  230 of Set 1 |udachnyy\n",
      "Processing record  231 of Set 1 |kruisfontein\n",
      "Processing record  232 of Set 1 |ketchenery\n",
      "Processing record  233 of Set 1 |eskasem\n",
      "Processing record  234 of Set 1 |huanuco\n",
      "Processing record  235 of Set 1 |muros\n",
      "Processing record  236 of Set 1 |pangnirtung\n",
      "Processing record  237 of Set 1 |mantua\n",
      "Processing record  238 of Set 1 |mattru\n",
      "Processing record  239 of Set 1 |porto belo\n",
      "Processing record  240 of Set 1 |cap malheureux\n",
      "Processing record  241 of Set 1 |portland\n",
      "Processing record  242 of Set 1 |boa vista\n",
      "Processing record  243 of Set 1 |yerbogachen\n",
      "Processing record  244 of Set 1 |zhoucheng\n",
      "Processing record  245 of Set 1 |lincoln\n",
      "Processing record  246 of Set 1 |strezhevoy\n",
      "Processing record  247 of Set 1 |lompoc\n",
      "Processing record  248 of Set 1 |atuona\n",
      "Processing record  249 of Set 1 |spearfish\n",
      "Processing record  250 of Set 1 |haines junction\n",
      "Processing record  251 of Set 1 |buerarema\n",
      "Processing record  252 of Set 1 |yeltsovka\n",
      "Processing record  253 of Set 1 |poopo\n",
      "Processing record  254 of Set 1 |vestmannaeyjar\n",
      "Processing record  255 of Set 1 |brookhaven\n",
      "Processing record  256 of Set 1 |atocha\n",
      "Processing record  257 of Set 1 |kalmar\n",
      "Processing record  258 of Set 1 |faanui\n",
      "Processing record  259 of Set 1 |diamantino\n",
      "Processing record  260 of Set 1 |tapaua\n",
      "Processing record  261 of Set 1 |natividade\n",
      "Processing record  262 of Set 1 |san jose\n",
      "Processing record  263 of Set 1 |rawson\n",
      "Processing record  264 of Set 1 |kamaishi\n",
      "Processing record  265 of Set 1 |kamina\n",
      "Processing record  266 of Set 1 |kankakee\n",
      "Processing record  267 of Set 1 |codrington\n",
      "Processing record  268 of Set 1 |kargasok\n",
      "Processing record  269 of Set 1 |luwingu\n",
      "Processing record  270 of Set 1 |taranagar\n",
      "Processing record  271 of Set 1 |sumbawa\n",
      "Processing record  272 of Set 1 |mana\n",
      "Processing record  273 of Set 1 |guanare\n",
      "Processing record  274 of Set 1 |bambous virieux\n",
      "Processing record  275 of Set 1 |cocobeach\n",
      "Processing record  276 of Set 1 |pevek\n",
      "Processing record  277 of Set 1 |balakovo\n",
      "Processing record  278 of Set 1 |narsaq\n",
      "Processing record  279 of Set 1 |ponta do sol\n",
      "Processing record  280 of Set 1 |sentyabrskiy\n",
      "Processing record  281 of Set 1 |attawapiskat\n",
      "Processing record  282 of Set 1 |arawa\n",
      "Processing record  283 of Set 1 |palmer\n",
      "Processing record  284 of Set 1 |spornoye\n",
      "Processing record  285 of Set 1 |matagami\n",
      "Processing record  286 of Set 1 |bilma\n",
      "Processing record  287 of Set 1 |halalo\n",
      "Processing record  288 of Set 1 |port elizabeth\n",
      "Processing record  289 of Set 1 |kununurra\n",
      "Processing record  290 of Set 1 |palabuhanratu\n",
      "Processing record  291 of Set 1 |poum\n",
      "Processing record  292 of Set 1 |khandbari\n",
      "Processing record  293 of Set 1 |daxian\n",
      "Processing record  294 of Set 1 |sao felix do xingu\n",
      "Processing record  295 of Set 1 |monze\n",
      "Processing record  296 of Set 1 |marawi\n",
      "Processing record  297 of Set 1 |moerai\n",
      "Processing record  298 of Set 1 |mpika\n",
      "Processing record  299 of Set 1 |itoman\n",
      "Processing record  300 of Set 1 |la cruz\n",
      "Processing record  301 of Set 1 |slonim\n",
      "Processing record  302 of Set 1 |kuytun\n",
      "Processing record  303 of Set 1 |cidreira\n",
      "Processing record  304 of Set 1 |lufilufi\n",
      "Processing record  305 of Set 1 |mount gambier\n",
      "Processing record  306 of Set 1 |carnarvon\n",
      "Processing record  307 of Set 1 |lebu\n",
      "Processing record  308 of Set 1 |hecun\n",
      "Processing record  309 of Set 1 |zanjan\n",
      "Processing record  310 of Set 1 |svarstad\n",
      "Processing record  311 of Set 1 |vao\n",
      "Processing record  312 of Set 1 |kloulklubed\n",
      "Processing record  313 of Set 1 |raton\n",
      "Processing record  314 of Set 1 |amahai\n",
      "Processing record  315 of Set 1 |nipawin\n",
      "Processing record  316 of Set 1 |gillette\n",
      "Processing record  317 of Set 1 |aswan\n",
      "Processing record  318 of Set 1 |sao miguel do araguaia\n",
      "Processing record  319 of Set 1 |atasu\n",
      "Processing record  320 of Set 1 |leningradskiy\n",
      "Processing record  321 of Set 1 |rocha\n",
      "Processing record  322 of Set 1 |miranda\n",
      "Processing record  323 of Set 1 |kahului\n",
      "Processing record  324 of Set 1 |mwense\n",
      "Processing record  325 of Set 1 |upernavik\n",
      "Processing record  326 of Set 1 |constantine\n",
      "Processing record  327 of Set 1 |klaksvik\n",
      "Processing record  328 of Set 1 |eureka\n",
      "Processing record  329 of Set 1 |estepona\n",
      "Processing record  330 of Set 1 |ulladulla\n",
      "Processing record  331 of Set 1 |ayagoz\n",
      "Processing record  332 of Set 1 |ishigaki\n",
      "Processing record  333 of Set 1 |saleaula\n",
      "Processing record  334 of Set 1 |yokadouma\n",
      "Processing record  335 of Set 1 |todos santos\n",
      "Processing record  336 of Set 1 |inhambane\n",
      "Processing record  337 of Set 1 |lagoa\n",
      "Processing record  338 of Set 1 |johi\n",
      "Processing record  339 of Set 1 |kapustin yar\n",
      "Processing record  340 of Set 1 |camden\n",
      "Processing record  341 of Set 1 |houma\n",
      "Processing record  342 of Set 1 |necochea\n",
      "Processing record  343 of Set 1 |skofja loka\n",
      "Processing record  344 of Set 1 |gavle\n",
      "Processing record  345 of Set 1 |buala\n",
      "Processing record  346 of Set 1 |fort abbas\n",
      "Processing record  347 of Set 1 |macaboboni\n",
      "Processing record  348 of Set 1 |charlestown\n",
      "Processing record  349 of Set 1 |awbari\n",
      "Processing record  350 of Set 1 |mount pleasant\n",
      "Processing record  351 of Set 1 |amderma\n",
      "Processing record  352 of Set 1 |uglovskoye\n",
      "Processing record  353 of Set 1 |slanic-moldova\n",
      "Processing record  354 of Set 1 |bumba\n",
      "Processing record  355 of Set 1 |teya\n",
      "Processing record  356 of Set 1 |nuuk\n",
      "Processing record  357 of Set 1 |bam\n",
      "Processing record  358 of Set 1 |kokoda\n",
      "Processing record  359 of Set 1 |bat khela\n",
      "Processing record  360 of Set 1 |vuktyl\n",
      "Processing record  361 of Set 1 |guanay\n",
      "Processing record  362 of Set 1 |mamakan\n",
      "Processing record  363 of Set 1 |ostersund\n",
      "Processing record  364 of Set 1 |mawlaik\n",
      "Processing record  365 of Set 1 |kutum\n",
      "Processing record  366 of Set 1 |lakes entrance\n",
      "Processing record  367 of Set 1 |touros\n",
      "Processing record  368 of Set 1 |aykhal\n",
      "Processing record  369 of Set 1 |big rapids\n",
      "Processing record  370 of Set 1 |basco\n",
      "Processing record  371 of Set 1 |peruibe\n",
      "Processing record  372 of Set 1 |vangaindrano\n",
      "Processing record  373 of Set 1 |praia\n",
      "Processing record  374 of Set 1 |sarkand\n",
      "Processing record  375 of Set 1 |jackson\n",
      "Processing record  376 of Set 1 |hobyo\n",
      "Processing record  377 of Set 1 |san quintin\n",
      "Processing record  378 of Set 1 |gilgit\n",
      "Processing record  379 of Set 1 |ponta delgada\n",
      "Processing record  380 of Set 1 |santa cruz de rosales\n",
      "Processing record  381 of Set 1 |juntas\n",
      "Processing record  382 of Set 1 |sitka\n",
      "Processing record  383 of Set 1 |plettenberg bay\n",
      "Processing record  384 of Set 1 |cagayan de tawi-tawi\n",
      "Processing record  385 of Set 1 |santa fe\n",
      "Processing record  386 of Set 1 |tamworth\n",
      "Processing record  387 of Set 1 |tuatapere\n",
      "Processing record  388 of Set 1 |general pico\n",
      "Processing record  389 of Set 1 |chegdomyn\n",
      "Processing record  390 of Set 1 |eyl\n"
     ]
    },
    {
     "name": "stdout",
     "output_type": "stream",
     "text": [
      "Processing record  391 of Set 1 |oranjemund\n",
      "Processing record  392 of Set 1 |rio gallegos\n",
      "Processing record  393 of Set 1 |aleksandrov gay\n",
      "Processing record  394 of Set 1 |iranshahr\n",
      "Processing record  395 of Set 1 |jacareacanga\n",
      "Processing record  396 of Set 1 |pando\n",
      "Processing record  397 of Set 1 |preobrazheniye\n",
      "Processing record  398 of Set 1 |belmonte\n",
      "Processing record  399 of Set 1 |port hedland\n",
      "Processing record  400 of Set 1 |hamilton\n",
      "Processing record  401 of Set 1 |jahrom\n",
      "Processing record  402 of Set 1 |hambantota\n",
      "Processing record  403 of Set 1 |margate\n",
      "Processing record  404 of Set 1 |carutapera\n",
      "Processing record  405 of Set 1 |arman\n",
      "Processing record  406 of Set 1 |japura\n",
      "Processing record  407 of Set 1 |zeya\n",
      "Processing record  408 of Set 1 |villa guerrero\n",
      "Processing record  409 of Set 1 |parabel\n",
      "Processing record  410 of Set 1 |buraydah\n",
      "Processing record  411 of Set 1 |vila do maio\n",
      "Processing record  412 of Set 1 |swan river\n",
      "Processing record  413 of Set 1 |canberra\n",
      "Processing record  414 of Set 1 |bolungarvik\n",
      "Processing record  415 of Set 1 |doume\n",
      "Processing record  416 of Set 1 |shellbrook\n",
      "Processing record  417 of Set 1 |ambanja\n",
      "Processing record  418 of Set 1 |eha amufu\n",
      "Processing record  419 of Set 1 |port lincoln\n",
      "Processing record  420 of Set 1 |katha\n",
      "Processing record  421 of Set 1 |esperance\n",
      "Processing record  422 of Set 1 |salalah\n",
      "Processing record  423 of Set 1 |tilichiki\n",
      "Processing record  424 of Set 1 |karnal\n",
      "Processing record  425 of Set 1 |maloy\n",
      "Processing record  426 of Set 1 |berlevag\n",
      "Processing record  427 of Set 1 |valentin gomez farias\n",
      "Processing record  428 of Set 1 |pathein\n",
      "Processing record  429 of Set 1 |takaka\n",
      "Processing record  430 of Set 1 |saraland\n",
      "Processing record  431 of Set 1 |bilibino\n",
      "Processing record  432 of Set 1 |zhigansk\n",
      "Processing record  433 of Set 1 |muriwai beach\n",
      "Processing record  434 of Set 1 |saint-augustin\n",
      "Processing record  435 of Set 1 |jawa\n",
      "Processing record  436 of Set 1 |svetlogorsk\n",
      "Processing record  437 of Set 1 |marsa matruh\n",
      "Processing record  438 of Set 1 |khatassy\n",
      "Processing record  439 of Set 1 |agadez\n",
      "Processing record  440 of Set 1 |rio grande\n",
      "Processing record  441 of Set 1 |sicamous\n",
      "Processing record  442 of Set 1 |tupancireta\n",
      "Processing record  443 of Set 1 |mocuba\n",
      "Processing record  444 of Set 1 |toamasina\n",
      "Processing record  445 of Set 1 |solsvik\n",
      "Processing record  446 of Set 1 |springfield\n",
      "Processing record  447 of Set 1 |souillac\n",
      "Processing record  448 of Set 1 |shubarshi\n",
      "Processing record  449 of Set 1 |saint-francois\n",
      "Processing record  450 of Set 1 |camacha\n",
      "Processing record  451 of Set 1 |dulce nombre de culmi\n",
      "Processing record  452 of Set 1 |mehamn\n",
      "Processing record  453 of Set 1 |dobromir\n",
      "Processing record  454 of Set 1 |west wendover\n",
      "Processing record  455 of Set 1 |dingle\n",
      "Processing record  456 of Set 1 |mogok\n",
      "Processing record  457 of Set 1 |minab\n",
      "Processing record  458 of Set 1 |verkhoyansk\n",
      "Processing record  459 of Set 1 |tuim\n",
      "Processing record  460 of Set 1 |urgut\n",
      "Processing record  461 of Set 1 |pietermaritzburg\n",
      "Processing record  462 of Set 1 |dukat\n",
      "Processing record  463 of Set 1 |katsuura\n",
      "Processing record  464 of Set 1 |angoche\n",
      "Processing record  465 of Set 1 |manaus\n",
      "Processing record  466 of Set 1 |hargeysa\n",
      "Processing record  467 of Set 1 |fougamou\n",
      "Processing record  468 of Set 1 |manacapuru\n",
      "Processing record  469 of Set 1 |rockhampton\n",
      "Processing record  470 of Set 1 |bolshoye sorokino\n",
      "Processing record  471 of Set 1 |hanyang\n",
      "Processing record  472 of Set 1 |itarema\n",
      "Processing record  473 of Set 1 |komsomolskiy\n",
      "Processing record  474 of Set 1 |harstad\n",
      "Processing record  475 of Set 1 |ranong\n",
      "Processing record  476 of Set 1 |kungurtug\n",
      "Processing record  477 of Set 1 |husavik\n",
      "Processing record  478 of Set 1 |lat yao\n",
      "Processing record  479 of Set 1 |namibe\n",
      "Processing record  480 of Set 1 |alofi\n",
      "Processing record  481 of Set 1 |boma\n",
      "Processing record  482 of Set 1 |baoding\n",
      "Processing record  483 of Set 1 |crystal beach\n",
      "Processing record  484 of Set 1 |tura\n",
      "Processing record  485 of Set 1 |mitsamiouli\n",
      "Processing record  486 of Set 1 |ahuimanu\n",
      "Processing record  487 of Set 1 |keuruu\n",
      "Processing record  488 of Set 1 |toulepleu\n",
      "Processing record  489 of Set 1 |cape girardeau\n",
      "Processing record  490 of Set 1 |cabra\n",
      "Processing record  491 of Set 1 |mujiayingzi\n",
      "Processing record  492 of Set 1 |hervey bay\n",
      "Processing record  493 of Set 1 |paramonga\n",
      "Processing record  494 of Set 1 |kristianstad\n",
      "Processing record  495 of Set 1 |amargosa\n",
      "Processing record  496 of Set 1 |merta\n",
      "Processing record  497 of Set 1 |araure\n",
      "Processing record  498 of Set 1 |blackwater\n",
      "Processing record  499 of Set 1 |paldiski\n",
      "Processing record  500 of Set 1 |alugan\n",
      "Processing record  501 of Set 1 |ramhormoz\n",
      "Processing record  502 of Set 1 |grosseto\n",
      "Processing record  503 of Set 1 |oktyabrskiy\n",
      "Processing record  504 of Set 1 |tigzirt\n",
      "Processing record  505 of Set 1 |taoudenni\n",
      "Processing record  506 of Set 1 |yanam\n",
      "Processing record  507 of Set 1 |stende\n",
      "Processing record  508 of Set 1 |caceres\n",
      "Processing record  509 of Set 1 |kaa-khem\n",
      "Processing record  510 of Set 1 |tabuk\n",
      "Processing record  511 of Set 1 |bowen\n",
      "Processing record  512 of Set 1 |kulhudhuffushi\n",
      "Processing record  513 of Set 1 |mayumba\n",
      "Processing record  514 of Set 1 |ust-kulom\n",
      "Processing record  515 of Set 1 |san juan\n",
      "Processing record  516 of Set 1 |hermosillo\n",
      "Processing record  517 of Set 1 |bokspits\n",
      "Processing record  518 of Set 1 |krymsk\n",
      "Processing record  519 of Set 1 |prabumulih\n",
      "Processing record  520 of Set 1 |raudeberg\n",
      "Processing record  521 of Set 1 |santa isabel\n",
      "Processing record  522 of Set 1 |hailey\n",
      "Processing record  523 of Set 1 |odweyne\n",
      "Processing record  524 of Set 1 |tanggulangin\n",
      "Processing record  525 of Set 1 |ust-kuyga\n",
      "Processing record  526 of Set 1 |kankon\n",
      "Processing record  527 of Set 1 |tommot\n",
      "Processing record  528 of Set 1 |baoqing\n",
      "Processing record  529 of Set 1 |garowe\n",
      "Processing record  530 of Set 1 |hay river\n",
      "Processing record  531 of Set 1 |warangal\n",
      "Processing record  532 of Set 1 |amapa\n",
      "Processing record  533 of Set 1 |jiddah\n",
      "Processing record  534 of Set 1 |vrangel\n",
      "Processing record  535 of Set 1 |ulkan\n",
      "Processing record  536 of Set 1 |nantucket\n",
      "Processing record  537 of Set 1 |aden\n",
      "Processing record  538 of Set 1 |avera\n",
      "Processing record  539 of Set 1 |vidalia\n",
      "Processing record  540 of Set 1 |amposta\n",
      "Processing record  541 of Set 1 |morganton\n",
      "Processing record  542 of Set 1 |voznesenye\n",
      "Processing record  543 of Set 1 |malinovoye ozero\n",
      "Processing record  544 of Set 1 |tiksi\n",
      "Processing record  545 of Set 1 |bereda\n",
      "Processing record  546 of Set 1 |santo domingo\n",
      "Processing record  547 of Set 1 |general roca\n",
      "Processing record  548 of Set 1 |korla\n",
      "Processing record  549 of Set 1 |port-gentil\n",
      "Processing record  550 of Set 1 |christchurch\n",
      "Processing record  551 of Set 1 |bell ville\n",
      "Processing record  552 of Set 1 |talcahuano\n",
      "Processing record  553 of Set 1 |port blair\n",
      "Processing record  554 of Set 1 |ahipara\n",
      "Processing record  555 of Set 1 |waingapu\n",
      "Processing record  556 of Set 1 |ambilobe\n",
      "Processing record  557 of Set 1 |henties bay\n",
      "Processing record  558 of Set 1 |chumikan\n",
      "Processing record  559 of Set 1 |axim\n",
      "Processing record  560 of Set 1 |saint-leu\n",
      "Processing record  561 of Set 1 |bisira\n",
      "Processing record  562 of Set 1 |karratha\n",
      "Processing record  563 of Set 1 |jinan\n",
      "Processing record  564 of Set 1 |kontagora\n",
      "Processing record  565 of Set 1 |hvolsvollur\n",
      "Processing record  566 of Set 1 |tual\n",
      "Processing record  567 of Set 1 |colares\n",
      "Processing record  568 of Set 1 |mitchell\n",
      "Processing record  569 of Set 1 |nova gradiska\n",
      "Processing record  570 of Set 1 |tandil\n",
      "Processing record  571 of Set 1 |vardo\n",
      "Processing record  572 of Set 1 |beringovskiy\n",
      "Processing record  573 of Set 1 |tuskegee\n",
      "Processing record  574 of Set 1 |vryburg\n",
      "Processing record  575 of Set 1 |nuevo progreso\n",
      "Processing record  576 of Set 1 |chernyshevskiy\n",
      "Processing record  577 of Set 1 |puerto colombia\n",
      "Processing record  578 of Set 1 |byron bay\n",
      "Processing record  579 of Set 1 |tombouctou\n",
      "Processing record  580 of Set 1 |tabialan\n",
      "Processing record  581 of Set 1 |usatove\n",
      "Processing record  582 of Set 1 |lata\n",
      "Processing record  583 of Set 1 |phan thiet\n"
     ]
    }
   ],
   "source": [
    "import json\n",
    "url = \"http://api.openweathermap.org/data/2.5/weather?\"\n",
    "units = \"Imperial\"\n",
    "# Build partial query URL\n",
    "query_url = f\"{url}appid={weather_api_key}&units={units}&q=\"\n",
    "#Beginning Data Retrieval  \n",
    "# set up lists to hold reponse info\n",
    "print(weather_api_key)\n",
    "\n",
    "Weather=[]\n",
    "i=0\n",
    "#response = requests.get(query_url + \"charlotte\").json()\n",
    "#print(json.dumps(response, indent=4, sort_keys=True))\n",
    "for  city  in cities:\n",
    "    try:\n",
    "        response = requests.get(query_url + city).json()\n",
    "        i=i+1\n",
    "        print(f\"Processing record  {i} of Set 1 |{city}\")\n",
    "        Lat=(response['coord']['lat'])\n",
    "        Max_Temp=(response['main']['temp_max'])\n",
    "        Cloudiness=(response['clouds']['all'])\n",
    "        Country=(response['sys']['country'])\n",
    "        Date=(response['dt'])\n",
    "        Humidity=(response['main']['humidity'])\n",
    "        Lng=(response['coord']['lon'])\n",
    "        Wind_Speed=(response['wind']['speed'])\n",
    "        Weather.append({    \"City\" : city,\n",
    "                \"Cloudiness\" : Cloudiness,\n",
    "                \"Country\" : Country,\n",
    "                \"Date\" : Date,\n",
    "                \"Humidity\" :  Humidity,\n",
    "                \"Lat\" : Lat,\n",
    "                \"Lng\" : Lng,\n",
    "                \"Max_Temp\": Max_Temp,\n",
    "                \"Wind_Speed\": Wind_Speed\n",
    "               })\n",
    "        time.sleep(.01)\n",
    "    except:\n",
    "        pass    "
   ]
  },
  {
   "cell_type": "markdown",
   "metadata": {},
   "source": [
    "### Convert Raw Data to DataFrame\n",
    "* Export the city data into a .csv.\n",
    "* Display the DataFrame"
   ]
  },
  {
   "cell_type": "code",
   "execution_count": 13,
   "metadata": {},
   "outputs": [],
   "source": [
    "weather_data = pd.DataFrame(Weather)\n",
    "weather_data.to_csv(\"weather.csv\")"
   ]
  },
  {
   "cell_type": "code",
   "execution_count": 14,
   "metadata": {},
   "outputs": [
    {
     "data": {
      "text/html": [
       "<div>\n",
       "<style scoped>\n",
       "    .dataframe tbody tr th:only-of-type {\n",
       "        vertical-align: middle;\n",
       "    }\n",
       "\n",
       "    .dataframe tbody tr th {\n",
       "        vertical-align: top;\n",
       "    }\n",
       "\n",
       "    .dataframe thead th {\n",
       "        text-align: right;\n",
       "    }\n",
       "</style>\n",
       "<table border=\"1\" class=\"dataframe\">\n",
       "  <thead>\n",
       "    <tr style=\"text-align: right;\">\n",
       "      <th></th>\n",
       "      <th>City</th>\n",
       "      <th>Cloudiness</th>\n",
       "      <th>Country</th>\n",
       "      <th>Date</th>\n",
       "      <th>Humidity</th>\n",
       "      <th>Lat</th>\n",
       "      <th>Lng</th>\n",
       "      <th>Max_Temp</th>\n",
       "      <th>Wind_Speed</th>\n",
       "    </tr>\n",
       "  </thead>\n",
       "  <tbody>\n",
       "    <tr>\n",
       "      <td>0</td>\n",
       "      <td>tazovskiy</td>\n",
       "      <td>100</td>\n",
       "      <td>RU</td>\n",
       "      <td>1580664988</td>\n",
       "      <td>95</td>\n",
       "      <td>67.47</td>\n",
       "      <td>78.70</td>\n",
       "      <td>-9.85</td>\n",
       "      <td>20.65</td>\n",
       "    </tr>\n",
       "    <tr>\n",
       "      <td>1</td>\n",
       "      <td>puerto ayora</td>\n",
       "      <td>20</td>\n",
       "      <td>EC</td>\n",
       "      <td>1580664988</td>\n",
       "      <td>70</td>\n",
       "      <td>-0.74</td>\n",
       "      <td>-90.35</td>\n",
       "      <td>84.20</td>\n",
       "      <td>14.99</td>\n",
       "    </tr>\n",
       "    <tr>\n",
       "      <td>2</td>\n",
       "      <td>brae</td>\n",
       "      <td>20</td>\n",
       "      <td>GB</td>\n",
       "      <td>1580664989</td>\n",
       "      <td>80</td>\n",
       "      <td>60.40</td>\n",
       "      <td>-1.35</td>\n",
       "      <td>35.60</td>\n",
       "      <td>5.82</td>\n",
       "    </tr>\n",
       "    <tr>\n",
       "      <td>3</td>\n",
       "      <td>hirara</td>\n",
       "      <td>0</td>\n",
       "      <td>JP</td>\n",
       "      <td>1580664989</td>\n",
       "      <td>57</td>\n",
       "      <td>24.80</td>\n",
       "      <td>125.28</td>\n",
       "      <td>63.91</td>\n",
       "      <td>7.58</td>\n",
       "    </tr>\n",
       "    <tr>\n",
       "      <td>4</td>\n",
       "      <td>rikitea</td>\n",
       "      <td>100</td>\n",
       "      <td>PF</td>\n",
       "      <td>1580664989</td>\n",
       "      <td>77</td>\n",
       "      <td>-23.12</td>\n",
       "      <td>-134.97</td>\n",
       "      <td>79.48</td>\n",
       "      <td>16.15</td>\n",
       "    </tr>\n",
       "    <tr>\n",
       "      <td>...</td>\n",
       "      <td>...</td>\n",
       "      <td>...</td>\n",
       "      <td>...</td>\n",
       "      <td>...</td>\n",
       "      <td>...</td>\n",
       "      <td>...</td>\n",
       "      <td>...</td>\n",
       "      <td>...</td>\n",
       "      <td>...</td>\n",
       "    </tr>\n",
       "    <tr>\n",
       "      <td>527</td>\n",
       "      <td>byron bay</td>\n",
       "      <td>40</td>\n",
       "      <td>AU</td>\n",
       "      <td>1580665242</td>\n",
       "      <td>83</td>\n",
       "      <td>-28.65</td>\n",
       "      <td>153.62</td>\n",
       "      <td>79.00</td>\n",
       "      <td>10.29</td>\n",
       "    </tr>\n",
       "    <tr>\n",
       "      <td>528</td>\n",
       "      <td>tombouctou</td>\n",
       "      <td>0</td>\n",
       "      <td>ML</td>\n",
       "      <td>1580665242</td>\n",
       "      <td>7</td>\n",
       "      <td>20.00</td>\n",
       "      <td>-3.00</td>\n",
       "      <td>73.74</td>\n",
       "      <td>6.67</td>\n",
       "    </tr>\n",
       "    <tr>\n",
       "      <td>529</td>\n",
       "      <td>usatove</td>\n",
       "      <td>94</td>\n",
       "      <td>UA</td>\n",
       "      <td>1580665242</td>\n",
       "      <td>76</td>\n",
       "      <td>46.53</td>\n",
       "      <td>30.66</td>\n",
       "      <td>51.80</td>\n",
       "      <td>6.71</td>\n",
       "    </tr>\n",
       "    <tr>\n",
       "      <td>530</td>\n",
       "      <td>lata</td>\n",
       "      <td>18</td>\n",
       "      <td>PT</td>\n",
       "      <td>1580665242</td>\n",
       "      <td>68</td>\n",
       "      <td>40.16</td>\n",
       "      <td>-8.33</td>\n",
       "      <td>68.00</td>\n",
       "      <td>5.82</td>\n",
       "    </tr>\n",
       "    <tr>\n",
       "      <td>531</td>\n",
       "      <td>phan thiet</td>\n",
       "      <td>62</td>\n",
       "      <td>VN</td>\n",
       "      <td>1580665242</td>\n",
       "      <td>84</td>\n",
       "      <td>10.93</td>\n",
       "      <td>108.10</td>\n",
       "      <td>64.13</td>\n",
       "      <td>3.09</td>\n",
       "    </tr>\n",
       "  </tbody>\n",
       "</table>\n",
       "<p>532 rows × 9 columns</p>\n",
       "</div>"
      ],
      "text/plain": [
       "             City  Cloudiness Country        Date  Humidity    Lat     Lng  \\\n",
       "0       tazovskiy         100      RU  1580664988        95  67.47   78.70   \n",
       "1    puerto ayora          20      EC  1580664988        70  -0.74  -90.35   \n",
       "2            brae          20      GB  1580664989        80  60.40   -1.35   \n",
       "3          hirara           0      JP  1580664989        57  24.80  125.28   \n",
       "4         rikitea         100      PF  1580664989        77 -23.12 -134.97   \n",
       "..            ...         ...     ...         ...       ...    ...     ...   \n",
       "527     byron bay          40      AU  1580665242        83 -28.65  153.62   \n",
       "528    tombouctou           0      ML  1580665242         7  20.00   -3.00   \n",
       "529       usatove          94      UA  1580665242        76  46.53   30.66   \n",
       "530          lata          18      PT  1580665242        68  40.16   -8.33   \n",
       "531    phan thiet          62      VN  1580665242        84  10.93  108.10   \n",
       "\n",
       "     Max_Temp  Wind_Speed  \n",
       "0       -9.85       20.65  \n",
       "1       84.20       14.99  \n",
       "2       35.60        5.82  \n",
       "3       63.91        7.58  \n",
       "4       79.48       16.15  \n",
       "..        ...         ...  \n",
       "527     79.00       10.29  \n",
       "528     73.74        6.67  \n",
       "529     51.80        6.71  \n",
       "530     68.00        5.82  \n",
       "531     64.13        3.09  \n",
       "\n",
       "[532 rows x 9 columns]"
      ]
     },
     "execution_count": 14,
     "metadata": {},
     "output_type": "execute_result"
    }
   ],
   "source": [
    "weather_data"
   ]
  },
  {
   "cell_type": "markdown",
   "metadata": {},
   "source": [
    "### Plotting the Data\n",
    "* Use proper labeling of the plots using plot titles (including date of analysis) and axes labels.\n",
    "* Save the plotted figures as .pngs."
   ]
  },
  {
   "cell_type": "markdown",
   "metadata": {},
   "source": [
    "#### Latitude vs. Temperature Plot"
   ]
  },
  {
   "cell_type": "code",
   "execution_count": 30,
   "metadata": {
    "scrolled": true
   },
   "outputs": [
    {
     "data": {
      "image/png": "[encoded data removed]",
      "text/plain": [
       "<Figure size 432x288 with 1 Axes>"
      ]
     },
     "metadata": {
      "needs_background": "light"
     },
     "output_type": "display_data"
    }
   ],
   "source": [
    "from datetime import date\n",
    "today = date.today().strftime(\"%m/%d/%y\")\n",
    "plt.scatter(weather_data['Lat'],weather_data['Max_Temp'])\n",
    "plt.xlabel(\"Latitude\")\n",
    "plt.ylabel(\"Max Temperature (C)\")\n",
    "plt.grid(True)\n",
    "plt.title(\"City Latitude vs. Temperature \" + today)\n",
    "plt.show()"
   ]
  },
  {
   "cell_type": "markdown",
   "metadata": {},
   "source": [
    "#### Latitude vs. Humidity Plot"
   ]
  },
  {
   "cell_type": "code",
   "execution_count": 21,
   "metadata": {},
   "outputs": [
    {
     "data": {
      "image/png": "[encoded data removed]",
      "text/plain": [
       "<Figure size 432x288 with 1 Axes>"
      ]
     },
     "metadata": {
      "needs_background": "light"
     },
     "output_type": "display_data"
    }
   ],
   "source": [
    "plt.scatter(weather_data['Lat'],weather_data['Humidity'])\n",
    "plt.xlabel(\"Latitude\")\n",
    "plt.ylabel(\"Humidity\")\n",
    "plt.grid(True)\n",
    "plt.title(\"Latitude vs. Humidity \" + today)\n",
    "plt.show()"
   ]
  },
  {
   "cell_type": "markdown",
   "metadata": {},
   "source": [
    "#### Latitude vs. Cloudiness Plot"
   ]
  },
  {
   "cell_type": "code",
   "execution_count": 22,
   "metadata": {},
   "outputs": [
    {
     "data": {
      "image/png": "[encoded data removed]",
      "text/plain": [
       "<Figure size 432x288 with 1 Axes>"
      ]
     },
     "metadata": {
      "needs_background": "light"
     },
     "output_type": "display_data"
    }
   ],
   "source": [
    "plt.scatter(weather_data['Lat'],weather_data['Cloudiness'])\n",
    "plt.xlabel(\"Latitude\")\n",
    "plt.ylabel(\"Cloudiness\")\n",
    "plt.grid(True)\n",
    "plt.title(\"Latitude vs. Cloudiness \" + today)\n",
    "plt.show()"
   ]
  },
  {
   "cell_type": "markdown",
   "metadata": {},
   "source": [
    "#### Latitude vs. Wind Speed Plot"
   ]
  },
  {
   "cell_type": "code",
   "execution_count": 23,
   "metadata": {},
   "outputs": [
    {
     "data": {
      "image/png": "[encoded data removed]",
      "text/plain": [
       "<Figure size 432x288 with 1 Axes>"
      ]
     },
     "metadata": {
      "needs_background": "light"
     },
     "output_type": "display_data"
    }
   ],
   "source": [
    "plt.scatter(weather_data['Lat'],weather_data['Wind_Speed'])\n",
    "plt.xlabel(\"Latitude\")\n",
    "plt.ylabel(\"Wind_Speed\")\n",
    "plt.grid(True)\n",
    "plt.title(\"Latitude vs. Wind Speed \" + today)\n",
    "plt.show()"
   ]
  },
  {
   "cell_type": "markdown",
   "metadata": {},
   "source": [
    "## Linear Regression"
   ]
  },
  {
   "cell_type": "code",
   "execution_count": 10,
   "metadata": {},
   "outputs": [],
   "source": [
    "# OPTIONAL: Create a function to create Linear Regression plots\n"
   ]
  },
  {
   "cell_type": "code",
   "execution_count": 25,
   "metadata": {},
   "outputs": [
    {
     "data": {
      "text/html": [
       "<div>\n",
       "<style scoped>\n",
       "    .dataframe tbody tr th:only-of-type {\n",
       "        vertical-align: middle;\n",
       "    }\n",
       "\n",
       "    .dataframe tbody tr th {\n",
       "        vertical-align: top;\n",
       "    }\n",
       "\n",
       "    .dataframe thead th {\n",
       "        text-align: right;\n",
       "    }\n",
       "</style>\n",
       "<table border=\"1\" class=\"dataframe\">\n",
       "  <thead>\n",
       "    <tr style=\"text-align: right;\">\n",
       "      <th></th>\n",
       "      <th>City</th>\n",
       "      <th>Cloudiness</th>\n",
       "      <th>Country</th>\n",
       "      <th>Date</th>\n",
       "      <th>Humidity</th>\n",
       "      <th>Lat</th>\n",
       "      <th>Lng</th>\n",
       "      <th>Max_Temp</th>\n",
       "      <th>Wind_Speed</th>\n",
       "    </tr>\n",
       "  </thead>\n",
       "  <tbody>\n",
       "    <tr>\n",
       "      <td>1</td>\n",
       "      <td>puerto ayora</td>\n",
       "      <td>20</td>\n",
       "      <td>EC</td>\n",
       "      <td>1580664988</td>\n",
       "      <td>70</td>\n",
       "      <td>-0.74</td>\n",
       "      <td>-90.35</td>\n",
       "      <td>84.20</td>\n",
       "      <td>14.99</td>\n",
       "    </tr>\n",
       "    <tr>\n",
       "      <td>4</td>\n",
       "      <td>rikitea</td>\n",
       "      <td>100</td>\n",
       "      <td>PF</td>\n",
       "      <td>1580664989</td>\n",
       "      <td>77</td>\n",
       "      <td>-23.12</td>\n",
       "      <td>-134.97</td>\n",
       "      <td>79.48</td>\n",
       "      <td>16.15</td>\n",
       "    </tr>\n",
       "    <tr>\n",
       "      <td>6</td>\n",
       "      <td>hithadhoo</td>\n",
       "      <td>27</td>\n",
       "      <td>MV</td>\n",
       "      <td>1580664989</td>\n",
       "      <td>75</td>\n",
       "      <td>-0.60</td>\n",
       "      <td>73.08</td>\n",
       "      <td>82.26</td>\n",
       "      <td>12.91</td>\n",
       "    </tr>\n",
       "    <tr>\n",
       "      <td>7</td>\n",
       "      <td>punta arenas</td>\n",
       "      <td>75</td>\n",
       "      <td>CL</td>\n",
       "      <td>1580664990</td>\n",
       "      <td>76</td>\n",
       "      <td>-53.15</td>\n",
       "      <td>-70.92</td>\n",
       "      <td>50.00</td>\n",
       "      <td>11.41</td>\n",
       "    </tr>\n",
       "    <tr>\n",
       "      <td>9</td>\n",
       "      <td>kang</td>\n",
       "      <td>0</td>\n",
       "      <td>BW</td>\n",
       "      <td>1580664990</td>\n",
       "      <td>20</td>\n",
       "      <td>-23.68</td>\n",
       "      <td>22.79</td>\n",
       "      <td>81.97</td>\n",
       "      <td>9.28</td>\n",
       "    </tr>\n",
       "    <tr>\n",
       "      <td>...</td>\n",
       "      <td>...</td>\n",
       "      <td>...</td>\n",
       "      <td>...</td>\n",
       "      <td>...</td>\n",
       "      <td>...</td>\n",
       "      <td>...</td>\n",
       "      <td>...</td>\n",
       "      <td>...</td>\n",
       "      <td>...</td>\n",
       "    </tr>\n",
       "    <tr>\n",
       "      <td>511</td>\n",
       "      <td>karratha</td>\n",
       "      <td>15</td>\n",
       "      <td>AU</td>\n",
       "      <td>1580665240</td>\n",
       "      <td>74</td>\n",
       "      <td>-20.74</td>\n",
       "      <td>116.85</td>\n",
       "      <td>81.57</td>\n",
       "      <td>13.18</td>\n",
       "    </tr>\n",
       "    <tr>\n",
       "      <td>515</td>\n",
       "      <td>tual</td>\n",
       "      <td>100</td>\n",
       "      <td>ID</td>\n",
       "      <td>1580665241</td>\n",
       "      <td>76</td>\n",
       "      <td>-5.67</td>\n",
       "      <td>132.75</td>\n",
       "      <td>83.79</td>\n",
       "      <td>10.96</td>\n",
       "    </tr>\n",
       "    <tr>\n",
       "      <td>519</td>\n",
       "      <td>tandil</td>\n",
       "      <td>56</td>\n",
       "      <td>AR</td>\n",
       "      <td>1580665241</td>\n",
       "      <td>33</td>\n",
       "      <td>-37.32</td>\n",
       "      <td>-59.13</td>\n",
       "      <td>97.00</td>\n",
       "      <td>1.99</td>\n",
       "    </tr>\n",
       "    <tr>\n",
       "      <td>523</td>\n",
       "      <td>vryburg</td>\n",
       "      <td>56</td>\n",
       "      <td>ZA</td>\n",
       "      <td>1580665241</td>\n",
       "      <td>29</td>\n",
       "      <td>-26.96</td>\n",
       "      <td>24.73</td>\n",
       "      <td>76.53</td>\n",
       "      <td>1.66</td>\n",
       "    </tr>\n",
       "    <tr>\n",
       "      <td>527</td>\n",
       "      <td>byron bay</td>\n",
       "      <td>40</td>\n",
       "      <td>AU</td>\n",
       "      <td>1580665242</td>\n",
       "      <td>83</td>\n",
       "      <td>-28.65</td>\n",
       "      <td>153.62</td>\n",
       "      <td>79.00</td>\n",
       "      <td>10.29</td>\n",
       "    </tr>\n",
       "  </tbody>\n",
       "</table>\n",
       "<p>176 rows × 9 columns</p>\n",
       "</div>"
      ],
      "text/plain": [
       "             City  Cloudiness Country        Date  Humidity    Lat     Lng  \\\n",
       "1    puerto ayora          20      EC  1580664988        70  -0.74  -90.35   \n",
       "4         rikitea         100      PF  1580664989        77 -23.12 -134.97   \n",
       "6       hithadhoo          27      MV  1580664989        75  -0.60   73.08   \n",
       "7    punta arenas          75      CL  1580664990        76 -53.15  -70.92   \n",
       "9            kang           0      BW  1580664990        20 -23.68   22.79   \n",
       "..            ...         ...     ...         ...       ...    ...     ...   \n",
       "511      karratha          15      AU  1580665240        74 -20.74  116.85   \n",
       "515          tual         100      ID  1580665241        76  -5.67  132.75   \n",
       "519        tandil          56      AR  1580665241        33 -37.32  -59.13   \n",
       "523       vryburg          56      ZA  1580665241        29 -26.96   24.73   \n",
       "527     byron bay          40      AU  1580665242        83 -28.65  153.62   \n",
       "\n",
       "     Max_Temp  Wind_Speed  \n",
       "1       84.20       14.99  \n",
       "4       79.48       16.15  \n",
       "6       82.26       12.91  \n",
       "7       50.00       11.41  \n",
       "9       81.97        9.28  \n",
       "..        ...         ...  \n",
       "511     81.57       13.18  \n",
       "515     83.79       10.96  \n",
       "519     97.00        1.99  \n",
       "523     76.53        1.66  \n",
       "527     79.00       10.29  \n",
       "\n",
       "[176 rows x 9 columns]"
      ]
     },
     "execution_count": 25,
     "metadata": {},
     "output_type": "execute_result"
    }
   ],
   "source": [
    "# Create Northern and Southern Hemisphere DataFrames\n",
    "\n",
    "north_hemisphere=weather_data[weather_data.Lat>0]\n",
    "south_hemisphere=weather_data[weather_data.Lat<0]\n"
   ]
  },
  {
   "cell_type": "markdown",
   "metadata": {},
   "source": [
    "####  Northern Hemisphere - Max Temp vs. Latitude Linear Regression"
   ]
  },
  {
   "cell_type": "code",
   "execution_count": 54,
   "metadata": {},
   "outputs": [
    {
     "name": "stdout",
     "output_type": "stream",
     "text": [
      "r-squared: 0.7188222925488038\n"
     ]
    },
    {
     "data": {
      "image/png": "[encoded data removed]",
      "text/plain": [
       "<Figure size 432x288 with 1 Axes>"
      ]
     },
     "metadata": {
      "needs_background": "light"
     },
     "output_type": "display_data"
    }
   ],
   "source": [
    "from scipy import stats\n",
    "lat=north_hemisphere['Lat']\n",
    "maxtemp=north_hemisphere['Max_Temp']\n",
    "mt_slope, mt_int, mt_r, mt_p, mt_std_err = stats.linregress(lat, maxtemp)\n",
    "mt_fit = mt_slope * lat + mt_int\n",
    "print(\"r-squared:\", mt_r**2)\n",
    "plt.scatter(lat,maxtemp)\n",
    "plt.plot(lat,mt_fit,\"--\", color=\"red\", label=\"y= \" +str(round(mt_slope,2)) +\"X + \"+ str(round(mt_int,2)))\n",
    "plt.grid(True)\n",
    "plt.xlabel('Lattitude')\n",
    "plt.ylabel('Max Temp')\n",
    "plt.legend(loc='lower left')\n",
    "plt.show()\n"
   ]
  },
  {
   "cell_type": "markdown",
   "metadata": {},
   "source": [
    "####  Southern Hemisphere - Max Temp vs. Latitude Linear Regression"
   ]
  },
  {
   "cell_type": "code",
   "execution_count": 57,
   "metadata": {},
   "outputs": [
    {
     "name": "stdout",
     "output_type": "stream",
     "text": [
      "r-squared: 0.16319326204714182\n"
     ]
    },
    {
     "data": {
      "image/png": "[encoded data removed]",
      "text/plain": [
       "<Figure size 432x288 with 1 Axes>"
      ]
     },
     "metadata": {
      "needs_background": "light"
     },
     "output_type": "display_data"
    }
   ],
   "source": [
    "\n",
    "lat=south_hemisphere['Lat']\n",
    "maxtemp=south_hemisphere['Max_Temp']\n",
    "mt_slope, mt_int, mt_r, mt_p, mt_std_err = stats.linregress(lat, maxtemp)\n",
    "mt_fit = mt_slope * lat + mt_int\n",
    "print(\"r-squared:\", mt_r**2)\n",
    "plt.scatter(lat,maxtemp)\n",
    "plt.plot(lat,mt_fit,\"--\", color=\"red\", label=\"y= \" +str(round(mt_slope,2)) +\"X + \"+ str(round(mt_int,2)))\n",
    "plt.grid(True)\n",
    "plt.xlabel('Lattitude')\n",
    "plt.ylabel('Max Temp')\n",
    "plt.legend(loc='upper right')\n",
    "plt.show()"
   ]
  },
  {
   "cell_type": "markdown",
   "metadata": {},
   "source": [
    "By the above graphs we can see releations ship Lattitude and Max Temperarue.\n",
    "In Northern Hemisphere max temperatures are dropped  form equator to  north pole.\n",
    "Similarly in Sothern hemispere   temperatures  are increases from south to equator, though r-square is less trend consistent"
   ]
  },
  {
   "cell_type": "markdown",
   "metadata": {},
   "source": [
    "####  Northern Hemisphere - Humidity (%) vs. Latitude Linear Regression"
   ]
  },
  {
   "cell_type": "code",
   "execution_count": 65,
   "metadata": {},
   "outputs": [
    {
     "name": "stdout",
     "output_type": "stream",
     "text": [
      "r-squared: 0.22037353425248288\n"
     ]
    },
    {
     "data": {
      "image/png": "[encoded data removed]",
      "text/plain": [
       "<Figure size 432x288 with 1 Axes>"
      ]
     },
     "metadata": {
      "needs_background": "light"
     },
     "output_type": "display_data"
    }
   ],
   "source": [
    "lat=north_hemisphere['Lat']\n",
    "humidity=north_hemisphere['Humidity']\n",
    "hm_slope, hm_int, hm_r, hm_p, hm_std_err = stats.linregress(lat, humidity)\n",
    "hm_fit = hm_slope * lat + hm_int\n",
    "print(\"r-squared:\", hm_r**2)\n",
    "plt.scatter(lat,humidity)\n",
    "plt.plot(lat,hm_fit,\"--\", color=\"red\",label=\"y= \" +str(round(hm_slope,2)) +\"x + \"+ str(round(hm_int,2)))\n",
    "plt.grid(True)\n",
    "plt.xlabel('Lattitude')\n",
    "plt.ylabel('Humidity')\n",
    "plt.legend(loc='lower right')\n",
    "plt.show()"
   ]
  },
  {
   "cell_type": "markdown",
   "metadata": {},
   "source": [
    "####  Southern Hemisphere - Humidity (%) vs. Latitude Linear Regression"
   ]
  },
  {
   "cell_type": "code",
   "execution_count": 66,
   "metadata": {},
   "outputs": [
    {
     "name": "stdout",
     "output_type": "stream",
     "text": [
      "r-squared: 0.04807140296486223\n"
     ]
    },
    {
     "data": {
      "image/png": "[encoded data removed]",
      "text/plain": [
       "<Figure size 432x288 with 1 Axes>"
      ]
     },
     "metadata": {
      "needs_background": "light"
     },
     "output_type": "display_data"
    }
   ],
   "source": [
    "lat=south_hemisphere['Lat']\n",
    "humidity=south_hemisphere['Humidity']\n",
    "hm_slope, hm_int, hm_r, hm_p, hm_std_err = stats.linregress(lat, humidity)\n",
    "hm_fit = hm_slope * lat + hm_int\n",
    "print(\"r-squared:\", hm_r**2)\n",
    "plt.scatter(lat,humidity)\n",
    "plt.plot(lat,hm_fit,\"--\", color=\"red\",label=\"y= \" +str(round(hm_slope,2)) +\"x + \"+ str(round(hm_int,2)))\n",
    "plt.grid(True)\n",
    "plt.xlabel('Lattitude')\n",
    "plt.ylabel('Humidity')\n",
    "plt.legend(loc='lower right')\n",
    "plt.show()"
   ]
  },
  {
   "cell_type": "markdown",
   "metadata": {},
   "source": [
    "By the above graphs we can see very weak releation ship   between Lattitude and Humidity.\n",
    "In Northern Hemisphere humidity increased from eaquator to north.\n",
    "Similarly in Sothern hemispere   humidity  are increases from south to equator, but it is a eak releation ship"
   ]
  },
  {
   "cell_type": "markdown",
   "metadata": {},
   "source": [
    "####  Northern Hemisphere - Cloudiness (%) vs. Latitude Linear Regression"
   ]
  },
  {
   "cell_type": "code",
   "execution_count": 68,
   "metadata": {},
   "outputs": [
    {
     "name": "stdout",
     "output_type": "stream",
     "text": [
      "r-squared: 0.05086409820464714\n"
     ]
    },
    {
     "data": {
      "image/png": "[encoded data removed]",
      "text/plain": [
       "<Figure size 432x288 with 1 Axes>"
      ]
     },
     "metadata": {
      "needs_background": "light"
     },
     "output_type": "display_data"
    }
   ],
   "source": [
    "lat=north_hemisphere['Lat']\n",
    "cloudiness=north_hemisphere['Cloudiness']\n",
    "cl_slope, cl_int, cl_r, cl_p,cl_std_err = stats.linregress(lat, cloudiness)\n",
    "cl_fit = cl_slope * lat + cl_int\n",
    "print(\"r-squared:\", cl_r**2)\n",
    "plt.scatter(lat,cloudiness)\n",
    "plt.plot(lat,cl_fit,\"--\", color=\"red\",label=\"y= \" +str(round(cl_slope,2)) +\"x + \"+ str(round(cl_slope,2)))\n",
    "plt.grid(True)\n",
    "plt.xlabel('Lattitude')\n",
    "plt.ylabel('Cloudiness')\n",
    "plt.legend(loc='lower right')\n",
    "plt.show()"
   ]
  },
  {
   "cell_type": "markdown",
   "metadata": {},
   "source": [
    "####  Southern Hemisphere - Cloudiness (%) vs. Latitude Linear Regression"
   ]
  },
  {
   "cell_type": "code",
   "execution_count": 69,
   "metadata": {},
   "outputs": [
    {
     "name": "stdout",
     "output_type": "stream",
     "text": [
      "r-squared: 0.045313601581781014\n"
     ]
    },
    {
     "data": {
      "image/png": "[encoded data removed]",
      "text/plain": [
       "<Figure size 432x288 with 1 Axes>"
      ]
     },
     "metadata": {
      "needs_background": "light"
     },
     "output_type": "display_data"
    }
   ],
   "source": [
    "lat=south_hemisphere['Lat']\n",
    "cloudiness=south_hemisphere['Cloudiness']\n",
    "cl_slope, cl_int, cl_r, cl_p,cl_std_err = stats.linregress(lat, cloudiness)\n",
    "cl_fit = cl_slope * lat + cl_int\n",
    "print(\"r-squared:\", cl_r**2)\n",
    "plt.scatter(lat,cloudiness)\n",
    "plt.plot(lat,cl_fit,\"--\", color=\"red\",label=\"y= \" +str(round(cl_slope,2)) +\"x + \"+ str(round(cl_slope,2)))\n",
    "plt.grid(True)\n",
    "plt.xlabel('Lattitude')\n",
    "plt.ylabel('Cloudiness')\n",
    "plt.legend(loc='lower right')\n",
    "plt.show()"
   ]
  },
  {
   "cell_type": "markdown",
   "metadata": {},
   "source": [
    "By the above graphs we can say  no  releation ship   between Lattitude and cloudiness.\n"
   ]
  },
  {
   "cell_type": "markdown",
   "metadata": {},
   "source": [
    "####  Northern Hemisphere - Wind Speed (mph) vs. Latitude Linear Regression"
   ]
  },
  {
   "cell_type": "code",
   "execution_count": 72,
   "metadata": {},
   "outputs": [
    {
     "name": "stdout",
     "output_type": "stream",
     "text": [
      "r-squared: 0.0015861295931020897\n"
     ]
    },
    {
     "data": {
      "image/png": "[encoded data removed]",
      "text/plain": [
       "<Figure size 432x288 with 1 Axes>"
      ]
     },
     "metadata": {
      "needs_background": "light"
     },
     "output_type": "display_data"
    }
   ],
   "source": [
    "lat=north_hemisphere['Lat']\n",
    "windspeed=north_hemisphere['Wind_Speed']\n",
    "ws_slope, ws_int, ws_r, ws_p, ws_std_err = stats.linregress(lat, windspeed)\n",
    "ws_fit = ws_slope * lat + ws_int\n",
    "print(\"r-squared:\", ws_r**2)\n",
    "plt.scatter(lat,windspeed)\n",
    "plt.plot(lat,ws_fit,\"--\", color=\"red\",label=\"y= \" +str(round(ws_slope,2)) +\"x + \"+ str(round(ws_int,2)))\n",
    "plt.grid(True)\n",
    "plt.xlabel('Lattitude')\n",
    "plt.ylabel('Humidity')\n",
    "plt.legend(loc='lower right')\n",
    "plt.show()"
   ]
  },
  {
   "cell_type": "markdown",
   "metadata": {},
   "source": [
    "####  Southern Hemisphere - Wind Speed (mph) vs. Latitude Linear Regression"
   ]
  },
  {
   "cell_type": "code",
   "execution_count": 73,
   "metadata": {},
   "outputs": [
    {
     "name": "stdout",
     "output_type": "stream",
     "text": [
      "r-squared: 0.022089014746134505\n"
     ]
    },
    {
     "data": {
      "image/png": "[encoded data removed]",
      "text/plain": [
       "<Figure size 432x288 with 1 Axes>"
      ]
     },
     "metadata": {
      "needs_background": "light"
     },
     "output_type": "display_data"
    }
   ],
   "source": [
    "lat=south_hemisphere['Lat']\n",
    "windspeed=south_hemisphere['Wind_Speed']\n",
    "ws_slope, ws_int, ws_r, ws_p, ws_std_err = stats.linregress(lat, windspeed)\n",
    "ws_fit = ws_slope * lat + ws_int\n",
    "print(\"r-squared:\", ws_r**2)\n",
    "plt.scatter(lat,windspeed)\n",
    "plt.plot(lat,ws_fit,\"--\", color=\"red\",label=\"y= \" +str(round(ws_slope,2)) +\"x + \"+ str(round(ws_int,2)))\n",
    "plt.grid(True)\n",
    "plt.xlabel('Lattitude')\n",
    "plt.ylabel('Humidity')\n",
    "plt.legend(loc='lower right')\n",
    "plt.show()"
   ]
  },
  {
   "cell_type": "markdown",
   "metadata": {},
   "source": [
    "By the above graphs we can say  no  releation ship   between Lattitude and windspeed.\n"
   ]
  },
  {
   "cell_type": "code",
   "execution_count": null,
   "metadata": {},
   "outputs": [],
   "source": []
  }
 ],
 "metadata": {
  "anaconda-cloud": {},
  "kernel_info": {
   "name": "python3"
  },
  "kernelspec": {
   "display_name": "Python 3",
   "language": "python",
   "name": "python3"
  },
  "language_info": {
   "codemirror_mode": {
    "name": "ipython",
    "version": 3
   },
   "file_extension": ".py",
   "mimetype": "text/x-python",
   "name": "python",
   "nbconvert_exporter": "python",
   "pygments_lexer": "ipython3",
   "version": "3.7.4"
  },
  "latex_envs": {
   "LaTeX_envs_menu_present": true,
   "autoclose": false,
   "autocomplete": true,
   "bibliofile": "biblio.bib",
   "cite_by": "apalike",
   "current_citInitial": 1,
   "eqLabelWithNumbers": true,
   "eqNumInitial": 1,
   "hotkeys": {
    "equation": "Ctrl-E",
    "itemize": "Ctrl-I"
   },
   "labels_anchors": false,
   "latex_user_defs": false,
   "report_style_numbering": false,
   "user_envs_cfg": false
  },
  "nteract": {
   "version": "0.12.3"
  }
 },
 "nbformat": 4,
 "nbformat_minor": 2
}
